{
 "cells": [
  {
   "cell_type": "code",
   "execution_count": 21,
   "metadata": {},
   "outputs": [],
   "source": [
    "import os\n",
    "import sys\n",
    "\n",
    "from IPython import get_ipython"
   ]
  },
  {
   "cell_type": "code",
   "execution_count": 22,
   "metadata": {},
   "outputs": [],
   "source": [
    "# Определение директории, в которой находится скрипт\n",
    "\n",
    "def Script_directory():\n",
    "    # решение для скрипта\n",
    "    # return os.path.dirname(os.path.abspath(__file__))\n",
    "\n",
    "    # решение для ipython\n",
    "    return get_ipython().run_line_magic('pwd', '')"
   ]
  },
  {
   "cell_type": "code",
   "execution_count": 23,
   "metadata": {},
   "outputs": [],
   "source": [
    "# Получение списка файлов в директории Input\n",
    "\n",
    "def List_of_files(script_dir):\n",
    "    file_names = os.listdir(os.path.join(script_dir, \"Input\"))\n",
    "    return file_names"
   ]
  },
  {
   "cell_type": "code",
   "execution_count": 24,
   "metadata": {},
   "outputs": [],
   "source": [
    "# Разделение название файла на имя и расширение\n",
    "\n",
    "splitted_names = []\n",
    "\n",
    "def Split_names(file_names : list):\n",
    "    for name in file_names:\n",
    "        splitted_names.append(name.split(sep=\".\", maxsplit = 2))\n"
   ]
  },
  {
   "cell_type": "code",
   "execution_count": 25,
   "metadata": {},
   "outputs": [
    {
     "name": "stdout",
     "output_type": "stream",
     "text": [
      "['experiment_218.txt', 'Hg(H2O)ReO4_18c6.xye', 'MSU_Hg15C5_LT_0m.cif']\n",
      "[['experiment_218', 'txt'], ['Hg(H2O)ReO4_18c6', 'xye'], ['MSU_Hg15C5_LT_0m', 'cif']]\n"
     ]
    }
   ],
   "source": [
    "def main():\n",
    "    script_dir = Script_directory()\n",
    "    list_of_files = List_of_files(script_dir)\n",
    "    Split_names(list_of_files)\n",
    "    print(list_of_files)\n",
    "    print(splitted_names)\n",
    "\n",
    "if __name__ == \"__main__\":\n",
    "    main()"
   ]
  }
 ],
 "metadata": {
  "kernelspec": {
   "display_name": ".venv",
   "language": "python",
   "name": "python3"
  },
  "language_info": {
   "codemirror_mode": {
    "name": "ipython",
    "version": 3
   },
   "file_extension": ".py",
   "mimetype": "text/x-python",
   "name": "python",
   "nbconvert_exporter": "python",
   "pygments_lexer": "ipython3",
   "version": "3.11.9"
  }
 },
 "nbformat": 4,
 "nbformat_minor": 2
}
